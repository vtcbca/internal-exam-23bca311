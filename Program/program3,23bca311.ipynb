{
 "cells": [
  {
   "cell_type": "markdown",
   "metadata": {},
   "source": [
    "### Create python.txt file . Take input from user till user choise and write it into python.txt. Take start and end line number from user and print only those line."
   ]
  },
  {
   "cell_type": "code",
   "execution_count": 10,
   "metadata": {},
   "outputs": [],
   "source": [
    "f=open(\"D:\\\\23bca311\\\\sqlite-tools-win-x64-3460000(1)\\\\database\\\\python02.txt\",'w')"
   ]
  },
  {
   "cell_type": "code",
   "execution_count": 11,
   "metadata": {},
   "outputs": [
    {
     "name": "stdout",
     "output_type": "stream",
     "text": [
      "enter text(or'q' to quit):python \n",
      "enter text(or'q' to quit):is\n",
      "enter text(or'q' to quit):open\n",
      "enter text(or'q' to quit):source\n",
      "enter text(or'q' to quit):q\n"
     ]
    }
   ],
   "source": [
    " while True:\n",
    "        user_input=input(\"enter text(or'q' to quit):\")\n",
    "        if user_input.lower()=='q':\n",
    "            break\n",
    "        f.write(user_input+\"\\n\")    "
   ]
  },
  {
   "cell_type": "code",
   "execution_count": 18,
   "metadata": {},
   "outputs": [
    {
     "name": "stdout",
     "output_type": "stream",
     "text": [
      "enter start line number:1\n"
     ]
    }
   ],
   "source": [
    "start_line=int(input(\"enter start line number:\"))"
   ]
  },
  {
   "cell_type": "code",
   "execution_count": 26,
   "metadata": {},
   "outputs": [
    {
     "name": "stdout",
     "output_type": "stream",
     "text": [
      "enter end line number:4\n"
     ]
    }
   ],
   "source": [
    "end_line=int(input(\"enter end line number:\"))"
   ]
  },
  {
   "cell_type": "code",
   "execution_count": 27,
   "metadata": {},
   "outputs": [],
   "source": [
    "f.close()"
   ]
  },
  {
   "cell_type": "code",
   "execution_count": 28,
   "metadata": {},
   "outputs": [],
   "source": [
    "f=open(\"D:\\\\23bca311\\\\sqlite-tools-win-x64-3460000(1)\\\\database\\\\python02.txt\",'r')"
   ]
  },
  {
   "cell_type": "code",
   "execution_count": 29,
   "metadata": {},
   "outputs": [],
   "source": [
    "lines=f.readlines()"
   ]
  },
  {
   "cell_type": "code",
   "execution_count": 30,
   "metadata": {},
   "outputs": [
    {
     "name": "stdout",
     "output_type": "stream",
     "text": [
      "python\n",
      "is\n",
      "open\n",
      "source\n"
     ]
    }
   ],
   "source": [
    "for i in range(start_line-1,end_line):\n",
    "    print(lines[i].strip())"
   ]
  },
  {
   "cell_type": "code",
   "execution_count": null,
   "metadata": {},
   "outputs": [],
   "source": []
  }
 ],
 "metadata": {
  "kernelspec": {
   "display_name": "Python 3",
   "language": "python",
   "name": "python3"
  },
  "language_info": {
   "codemirror_mode": {
    "name": "ipython",
    "version": 3
   },
   "file_extension": ".py",
   "mimetype": "text/x-python",
   "name": "python",
   "nbconvert_exporter": "python",
   "pygments_lexer": "ipython3",
   "version": "3.7.0"
  }
 },
 "nbformat": 4,
 "nbformat_minor": 2
}
